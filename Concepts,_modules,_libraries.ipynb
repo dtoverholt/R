{
  "nbformat": 4,
  "nbformat_minor": 0,
  "metadata": {
    "colab": {
      "name": "Concepts, modules, libraries",
      "provenance": [],
      "collapsed_sections": [],
      "include_colab_link": true
    },
    "kernelspec": {
      "name": "python3",
      "display_name": "Python 3"
    }
  },
  "cells": [
    {
      "cell_type": "markdown",
      "metadata": {
        "id": "view-in-github",
        "colab_type": "text"
      },
      "source": [
        "<a href=\"https://colab.research.google.com/github/dtoverholt/R/blob/master/Concepts%2C_modules%2C_libraries.ipynb\" target=\"_parent\"><img src=\"https://colab.research.google.com/assets/colab-badge.svg\" alt=\"Open In Colab\"/></a>"
      ]
    },
    {
      "cell_type": "markdown",
      "metadata": {
        "id": "vldYAihg74D2"
      },
      "source": [
        "# Agenda"
      ]
    },
    {
      "cell_type": "markdown",
      "metadata": {
        "id": "Zsd1wzje5UGF"
      },
      "source": [
        "**1. Connect colab to your gitub:** \n",
        "\n",
        "File ---> save a copy to gitub\n",
        "\n",
        "Select the repo name (fuzzy-octo)\n",
        "\n",
        "Best practice: change the commit message to something relevant to your progress ... i.e. \"fixed infinite loop\", \"print statements\", \"function scope\", etc\n",
        "\n",
        "You should make another colab with your own notes in your own words, push that to the repo too. \n",
        "\n"
      ]
    },
    {
      "cell_type": "markdown",
      "metadata": {
        "id": "Xy-XbSFV5wxq"
      },
      "source": [
        "**Concepts**\n",
        "\n",
        "***Need to know***\n",
        "1. Print statements & Comments\n",
        "2. Variables + Types\n",
        "3. Math Operations\n",
        "4. Type Conversion\n",
        "3. String Methods\n",
        "6. Lists & List Methods\n",
        "7. Lists\n",
        "8. Conditionals\n",
        "9. Loops + Counters\n",
        "10. Functions + Scope\n",
        "\n",
        "***Nice to know***\n",
        "11. User input (fun, can add interactivity to maps. can make games)\n",
        "12. Tuples\n",
        "13. Dictionaries\n",
        "14. Classes (advanced - essential for creating large data structures/apps, generally non-essential for datascience & maps)\n"
      ]
    },
    {
      "cell_type": "markdown",
      "metadata": {
        "id": "RWkIp4bl6efS"
      },
      "source": [
        "**Modules**\n",
        "\n",
        "***need to know:***\n",
        "1. Math\n",
        "2. Stats\n",
        "3. CSV\n",
        "\n",
        "***nice to know***\n",
        "4. Counter\n",
        "5. Time\n",
        "6. Random\n"
      ]
    },
    {
      "cell_type": "markdown",
      "metadata": {
        "id": "fhcNfHhR9QR2"
      },
      "source": [
        "# Concepts"
      ]
    },
    {
      "cell_type": "markdown",
      "metadata": {
        "id": "sx7du8LF8Jt1"
      },
      "source": [
        "# **Print Statements**"
      ]
    },
    {
      "cell_type": "markdown",
      "metadata": {
        "id": "X_u4s_NmOkhB"
      },
      "source": [
        "**Syntax**\n",
        "\n",
        "*condition 1: you want to print letters*\n",
        "\n",
        "print(\"your word/sentence/ letters here\")\n",
        "\n",
        "*condition 2: you want to print numbers*\n",
        "\n",
        "print(your number here)"
      ]
    },
    {
      "cell_type": "markdown",
      "metadata": {
        "id": "K5bsbHJ7OfTO"
      },
      "source": [
        "Print statements are the easiest thing to learn but will end up being the most important thing to use everytime you code something. When you make a function, do math, loop through something, etc, print statements are the way you check whether or not your code is doing what you want it to. \n",
        "\n",
        "Never write more than 10 lines of code (for now) without using a print statement to check your progress. That is, always test early & test often. Men never do this and then wonder why they spend so much time debugging. Channel the divine femme to save time & frusteration."
      ]
    },
    {
      "cell_type": "code",
      "metadata": {
        "colab": {
          "base_uri": "https://localhost:8080/"
        },
        "id": "Bw_U2ADV-ye4",
        "outputId": "96cdc30d-a033-4c35-c418-cc05baa1137a"
      },
      "source": [
        "# condition 1: letters/words/sentences (strings) go inside quotation marks. \n",
        "print(\"hello world\")"
      ],
      "execution_count": null,
      "outputs": [
        {
          "output_type": "stream",
          "text": [
            "hello world\n"
          ],
          "name": "stdout"
        }
      ]
    },
    {
      "cell_type": "code",
      "metadata": {
        "colab": {
          "base_uri": "https://localhost:8080/"
        },
        "id": "2ktvY7qc_Qy4",
        "outputId": "6718e10b-9279-4fd3-f8ce-aee919cf9fe3"
      },
      "source": [
        "# condition 2: numbers\n",
        "print(5)\n",
        "print(5+10) # you can also do math ops inside of print statements\n",
        "print(5**2)"
      ],
      "execution_count": null,
      "outputs": [
        {
          "output_type": "stream",
          "text": [
            "5\n",
            "15\n",
            "25\n"
          ],
          "name": "stdout"
        }
      ]
    },
    {
      "cell_type": "markdown",
      "metadata": {
        "id": "0t6S5fQXFt6M"
      },
      "source": [
        "*Handling different types in a print statement*\n",
        "\n",
        "When you want to print out things of different types in a print statement (let's say a string and an integer), you need to use either the \",\" (comma) delimiter."
      ]
    },
    {
      "cell_type": "code",
      "metadata": {
        "colab": {
          "base_uri": "https://localhost:8080/"
        },
        "id": "9NuyspD8GJdZ",
        "outputId": "852d81aa-a24a-4bf1-8e79-28d10783350c"
      },
      "source": [
        "# example:\n",
        "print(\"I am\", 21, \"years old\")\n",
        "\n",
        "# you can also do this with variables\n",
        "# this is called string concatenation\n",
        "name = \"Bella\"\n",
        "age = 21\n",
        "print(\"My name is\",name, \"I am\",age, \"years old\") "
      ],
      "execution_count": null,
      "outputs": [
        {
          "output_type": "stream",
          "text": [
            "I am 21 years old\n",
            "My name is Bella I am 21 years old\n"
          ],
          "name": "stdout"
        }
      ]
    },
    {
      "cell_type": "markdown",
      "metadata": {
        "id": "oNaCjDg1Fpgs"
      },
      "source": [
        "**Practice:**\n",
        "\n",
        "Print your name\n",
        "\n",
        "Print out the number 10 using two numbers and the + operator"
      ]
    },
    {
      "cell_type": "code",
      "metadata": {
        "id": "RH_K2xW7OOFy",
        "colab": {
          "base_uri": "https://localhost:8080/"
        },
        "outputId": "47bb4f51-f8dd-47cd-a40a-6ee7a140382c"
      },
      "source": [
        "# your code here\r\n",
        "\r\n",
        "print(\"Dane\")\r\n",
        "\r\n",
        "print(7+3)\r\n"
      ],
      "execution_count": null,
      "outputs": [
        {
          "output_type": "stream",
          "text": [
            "Dane\n",
            "10\n"
          ],
          "name": "stdout"
        }
      ]
    },
    {
      "cell_type": "markdown",
      "metadata": {
        "id": "bRyZnOB1ORNp"
      },
      "source": [
        "*comments*"
      ]
    },
    {
      "cell_type": "code",
      "metadata": {
        "colab": {
          "base_uri": "https://localhost:8080/",
          "height": 69
        },
        "id": "dR8EleMb9F-x",
        "outputId": "795935e9-4cf2-42ca-9585-4b51296f23c9"
      },
      "source": [
        "# This is single line a comment. Use a hashtag to start one. Comment your code as much as possible. \n",
        "\"\"\"\n",
        "This is a multi-line comment\n",
        "Also called a block comment\n",
        "Comment even when you think your work is self explanatory. \n",
        "When you revisit the stuff you thought was self explanory at a later date it won't be anymore--\n",
        "If you run this cell without the print statement you will see the block comment\n",
        "Try running it with & without the below print statement (uncomment it to run it without)\n",
        "\"\"\"\n",
        "\n",
        "# print('hi')"
      ],
      "execution_count": null,
      "outputs": [
        {
          "output_type": "execute_result",
          "data": {
            "application/vnd.google.colaboratory.intrinsic+json": {
              "type": "string"
            },
            "text/plain": [
              "\"\\nThis is a multi-line comment\\nAlso called a block comment\\nComment even when you think your work is self explanatory. \\nWhen you revisit the stuff you thought was self explanory at a later date it won't be anymore--\\nIf you run this cell without the print statement you will see the block comment\\nTry running it with & without the below print statement (uncomment it to run it without)\\n\""
            ]
          },
          "metadata": {
            "tags": []
          },
          "execution_count": 3
        }
      ]
    },
    {
      "cell_type": "code",
      "metadata": {
        "id": "_4RCe5Ycwjge"
      },
      "source": [
        ""
      ],
      "execution_count": null,
      "outputs": []
    },
    {
      "cell_type": "markdown",
      "metadata": {
        "id": "93lFRZnJOdvV"
      },
      "source": [
        ""
      ]
    },
    {
      "cell_type": "markdown",
      "metadata": {
        "id": "LrxK1Wy0N8F5"
      },
      "source": [
        "# **Variables & Types**"
      ]
    },
    {
      "cell_type": "markdown",
      "metadata": {
        "id": "Vt0eEwaIO1mI"
      },
      "source": [
        "The most important types to know are the primitive data types:\n",
        "\n",
        "There are four primitive types in python:\n",
        "\n",
        "1. integers (whole numbers)\n",
        "\n",
        "2. floats (numbers containing decimals)\n",
        "\n",
        "3. strings (letters,words,sentences)\n",
        "\n",
        "4. Booleans (True/Flase)\n",
        "\n",
        "To check the type of something, you use the type() function\n"
      ]
    },
    {
      "cell_type": "code",
      "metadata": {
        "colab": {
          "base_uri": "https://localhost:8080/"
        },
        "id": "cTE-SGUoPyA9",
        "outputId": "c5e5f2d3-0e8d-44ca-94aa-ca39abaf1651"
      },
      "source": [
        "\"\"\" run this cell, notice that only the last line prints to the console.\n",
        " This concept will be revived with return statements when you learn functions\n",
        "  \"\"\"\n",
        "type(1)\n",
        "type(1.2)\n",
        "type(\"a\") # this is the only type to use quotation marks with\n",
        "type(False)\n"
      ],
      "execution_count": null,
      "outputs": [
        {
          "output_type": "execute_result",
          "data": {
            "text/plain": [
              "bool"
            ]
          },
          "metadata": {
            "tags": []
          },
          "execution_count": 16
        }
      ]
    },
    {
      "cell_type": "markdown",
      "metadata": {
        "id": "0nBC90RFQqA8"
      },
      "source": [
        "**Practice**\n",
        "\n",
        "Assign the above values to variable names. Use string concatination to print out all the values\n",
        "\n",
        "ex: \n",
        "\n",
        "integer = type(1)\n",
        "\n",
        "float = type (1.2)\n",
        "\n",
        "... etc\n",
        "\n",
        "print(integer,float.... etc)\n",
        "\n",
        "\n",
        "you'll notice that the outputs don't look the same as they are without print statements... dw about it. This kind of thing will reoccur when you learn dataframes. This has to do with the fact that python is OO (object oriented). We'll address that later"
      ]
    },
    {
      "cell_type": "code",
      "metadata": {
        "colab": {
          "base_uri": "https://localhost:8080/"
        },
        "id": "mQxOzngrQgiy",
        "outputId": "364d0c08-5d53-4c30-8548-bd811e65bcb4"
      },
      "source": [
        "# your code here\r\n",
        "\r\n",
        "integer = type(1)\r\n",
        "myfloat = type(1.2)\r\n",
        "string = type(\"a\")\r\n",
        "bools = type(False)\r\n",
        "\r\n",
        "print(integer, myfloat, string, bools)"
      ],
      "execution_count": null,
      "outputs": [
        {
          "output_type": "stream",
          "text": [
            "<class 'int'> <class 'float'> <class 'str'> <class 'bool'>\n"
          ],
          "name": "stdout"
        }
      ]
    },
    {
      "cell_type": "markdown",
      "metadata": {
        "id": "g8Ae-9-6OpSv"
      },
      "source": [
        "Variables are how you store values. You assign values to variable names for you to access them later. "
      ]
    },
    {
      "cell_type": "code",
      "metadata": {
        "id": "KpXqMrtbOwPZ"
      },
      "source": [
        "# examples of variables\n",
        "name = \"Bella\"\n",
        "age = 21"
      ],
      "execution_count": null,
      "outputs": []
    },
    {
      "cell_type": "markdown",
      "metadata": {
        "id": "z9unVwjXc8DO"
      },
      "source": [
        "**Practice**\n",
        "\n",
        "assign variables like the ones above but with your info\n",
        "\n",
        "\n",
        "use string concat to print out your name and age in the same print statment"
      ]
    },
    {
      "cell_type": "code",
      "metadata": {
        "id": "FbeXM2MgdJBo"
      },
      "source": [
        "# your code here\r\n",
        "\r\n",
        "bestfriend = \"Bella\"\r\n",
        "daysicanlivewithouther = 0\r\n"
      ],
      "execution_count": null,
      "outputs": []
    },
    {
      "cell_type": "markdown",
      "metadata": {
        "id": "JeT4gBRYSJUA"
      },
      "source": [
        "# Math Operations"
      ]
    },
    {
      "cell_type": "markdown",
      "metadata": {
        "id": "NybB7zP4SQTY"
      },
      "source": [
        "These are the syntax for the math operations you need to know\n",
        "\n",
        "modulo: % (returns the remainder)\n",
        "\n",
        "divide: /\n",
        "\n",
        "multiply: *\n",
        "\n",
        "exponents: ** (to the power of)\n",
        "\n",
        "add: +\n",
        "\n",
        "subtract: -"
      ]
    },
    {
      "cell_type": "code",
      "metadata": {
        "id": "0o7bkhkPSpBL"
      },
      "source": [
        "# examples\n",
        "num = 20\n",
        "even_or_odd = number % 2\n",
        "exp = num ** 2 # (20 to the power of 2)"
      ],
      "execution_count": null,
      "outputs": []
    },
    {
      "cell_type": "markdown",
      "metadata": {
        "id": "1qAvvyUMTFmv"
      },
      "source": [
        "**Practice**\n",
        "\n",
        "In a new cell, assign the variable num to a new value (python has auto garbage collection meaning you're allowed to redefine variables with no overhead)\n",
        "\n",
        "copy the variable even_or_odd\n",
        "\n",
        "\n",
        " Change the num variable to check whether the number is even or odd . Print out the variable even_or_odd. If it prints 0, the number is even, if it prints not 0, the number is odd. You will use the modulo operator often to determine if things are even or odd. "
      ]
    },
    {
      "cell_type": "code",
      "metadata": {
        "id": "HVKVS4wvT1s3"
      },
      "source": [
        "# your code here"
      ],
      "execution_count": null,
      "outputs": []
    },
    {
      "cell_type": "markdown",
      "metadata": {
        "id": "TKLcfV4AV8Af"
      },
      "source": [
        "# **Type Conversion**"
      ]
    },
    {
      "cell_type": "markdown",
      "metadata": {
        "id": "hd67L_f_WOBY"
      },
      "source": [
        "You can switch between types. You'll need this for dataframes & CSV files. You'll also need it if you ever want to accept user input. "
      ]
    },
    {
      "cell_type": "markdown",
      "metadata": {
        "id": "x_gmg4vaabpD"
      },
      "source": [
        "Operations:\n",
        "\n",
        "float()\n",
        "\n",
        "str()\n",
        "\n",
        "int()"
      ]
    },
    {
      "cell_type": "code",
      "metadata": {
        "colab": {
          "base_uri": "https://localhost:8080/"
        },
        "id": "jrwTbLfCW9cJ",
        "outputId": "d20f00cc-4288-4901-b170-fba37b3ff897"
      },
      "source": [
        "# example\n",
        "s = \"1\" # s is a string\n",
        "print(\"before conversion\",type(s))\n",
        "s = float(s) # change to a float\n",
        "s = int(s) # convert s to an integer\n",
        "print(\"after conversion\", type(s)) # s is an integer\n",
        "s = str(s) # convert back to a string\n",
        "print(\"after second conversion\", type(s)) # s is a string again"
      ],
      "execution_count": null,
      "outputs": [
        {
          "output_type": "stream",
          "text": [
            "before conversion <class 'str'>\n",
            "after conversion <class 'int'>\n",
            "after second conversion <class 'str'>\n"
          ],
          "name": "stdout"
        }
      ]
    },
    {
      "cell_type": "markdown",
      "metadata": {
        "id": "ZdUc7EOBXYs8"
      },
      "source": [
        "You can also use type conversion to round numbers. You do this by turning a float into an integer\n",
        "\n",
        "Run the cell below to use the output"
      ]
    },
    {
      "cell_type": "code",
      "metadata": {
        "colab": {
          "base_uri": "https://localhost:8080/"
        },
        "id": "2Yx2YG4RYZHR",
        "outputId": "13797f8c-cca1-4564-a020-9bfddcb46cb8"
      },
      "source": [
        "my_float = 5.2\n",
        "my_int = int(5.2)\n",
        "print(my_int)"
      ],
      "execution_count": null,
      "outputs": [
        {
          "output_type": "stream",
          "text": [
            "5\n",
            "<class 'int'>\n"
          ],
          "name": "stdout"
        }
      ]
    },
    {
      "cell_type": "markdown",
      "metadata": {
        "id": "DBw1EA0GY2AY"
      },
      "source": [
        "**Practice**\n",
        "\n",
        "Assign a variable to a number of the float type (ex. my_num = 5.2)\n",
        "\n",
        "Floats can be either whole numbers or decimals, for this problem, make your number a decimal\n",
        "\n",
        "change the variable to a int, then to an string, then back to an int\n",
        "\n",
        "Lastly, change your number back to a float. Is it the same as the original float you declared? If not, why do you think this happened?"
      ]
    },
    {
      "cell_type": "code",
      "metadata": {
        "id": "ZFhB1MW4asNJ"
      },
      "source": [
        "# your code here"
      ],
      "execution_count": null,
      "outputs": []
    },
    {
      "cell_type": "markdown",
      "metadata": {
        "id": "Niph9e5-cLEb"
      },
      "source": [
        "# **String Methods**\n",
        "\n",
        "Now you're done with the easiest parts. This is where you learn about indexing"
      ]
    },
    {
      "cell_type": "code",
      "metadata": {
        "id": "PnNd9WMS27XI"
      },
      "source": [
        "my_string = \"hello world\""
      ],
      "execution_count": null,
      "outputs": []
    },
    {
      "cell_type": "markdown",
      "metadata": {
        "id": "QY0xTaec3BDU"
      },
      "source": [
        "Indexing is "
      ]
    }
  ]
}